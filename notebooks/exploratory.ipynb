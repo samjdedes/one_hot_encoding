{
 "cells": [
  {
   "cell_type": "code",
   "execution_count": 1,
   "metadata": {},
   "outputs": [],
   "source": [
    "import numpy as np\n",
    "import pandas as pd\n",
    "from sklearn.preprocessing import OneHotEncoder"
   ]
  },
  {
   "cell_type": "code",
   "execution_count": 9,
   "metadata": {},
   "outputs": [
    {
     "data": {
      "text/html": [
       "<div>\n",
       "<style scoped>\n",
       "    .dataframe tbody tr th:only-of-type {\n",
       "        vertical-align: middle;\n",
       "    }\n",
       "\n",
       "    .dataframe tbody tr th {\n",
       "        vertical-align: top;\n",
       "    }\n",
       "\n",
       "    .dataframe thead th {\n",
       "        text-align: right;\n",
       "    }\n",
       "</style>\n",
       "<table border=\"1\" class=\"dataframe\">\n",
       "  <thead>\n",
       "    <tr style=\"text-align: right;\">\n",
       "      <th></th>\n",
       "      <th>cost</th>\n",
       "      <th>fruit</th>\n",
       "    </tr>\n",
       "  </thead>\n",
       "  <tbody>\n",
       "    <tr>\n",
       "      <th>0</th>\n",
       "      <td>1.0</td>\n",
       "      <td>apples</td>\n",
       "    </tr>\n",
       "    <tr>\n",
       "      <th>1</th>\n",
       "      <td>1.2</td>\n",
       "      <td>oranges</td>\n",
       "    </tr>\n",
       "    <tr>\n",
       "      <th>2</th>\n",
       "      <td>4.0</td>\n",
       "      <td>grapes</td>\n",
       "    </tr>\n",
       "    <tr>\n",
       "      <th>3</th>\n",
       "      <td>2.5</td>\n",
       "      <td>mangoes</td>\n",
       "    </tr>\n",
       "  </tbody>\n",
       "</table>\n",
       "</div>"
      ],
      "text/plain": [
       "   cost    fruit\n",
       "0   1.0   apples\n",
       "1   1.2  oranges\n",
       "2   4.0   grapes\n",
       "3   2.5  mangoes"
      ]
     },
     "execution_count": 9,
     "metadata": {},
     "output_type": "execute_result"
    }
   ],
   "source": [
    "# create data\n",
    "fruit = {'cost': [1, 1.2, 4, 2.5], 'fruit':['apples', 'oranges', 'grapes', 'mangoes']}\n",
    "\n",
    "df = pd.DataFrame.from_dict(fruit)\n",
    "\n",
    "df"
   ]
  },
  {
   "cell_type": "code",
   "execution_count": 12,
   "metadata": {},
   "outputs": [],
   "source": [
    "ohe = OneHotEncoder(sparse=False)\n",
    "df_oh = pd.DataFrame(ohe.fit_transform(df), index= df.index, columns=ohe.get_feature_names(df.columns))\n",
    "df_oh"
   ]
  },
  {
   "cell_type": "code",
   "execution_count": 11,
   "metadata": {},
   "outputs": [],
   "source": [
    "# # This code will onehotencode the categorical columns and return the dataframe\n",
    "# # inputs: X (dataframe), column_list (list of categorical columns)\n",
    "# # returns: X_ohe (one-hot-encoded dataframe)\n",
    "# # note, operations NOT done inplace\n",
    "\n",
    "# def ohe2021(X, column_list):  \n",
    "#     # One hot encode\n",
    "#     valid_columns = []\n",
    "    \n",
    "#     # remove columns not in X dataframe\n",
    "#     for column in column_list:\n",
    "#         if column in X.columns:\n",
    "#             valid_columns.append(column)\n",
    "        \n",
    "#         else:\n",
    "#             print(f'Column \"{column}\" not found in DataFrame')\n",
    "            \n",
    "#     # get dataframe of categroical columns to oneHotEncode\n",
    "#     X_cat = X[valid_columns]\n",
    "#     X_cat.head()\n",
    "\n",
    "#     # get dataframe of numeric columns to oneHotEncode\n",
    "#     X_num = X.drop(valid_columns, axis=1)\n",
    "#     X_num.head()\n",
    "\n",
    "#     # Finally, One Hot Encode\n",
    "#     # from sklearn.preprocessing import OneHotEncoder\n",
    "#     ohe = OneHotEncoder(sparse=False, drop='first')\n",
    "#     X_cat_oh = pd.DataFrame(ohe.fit_transform(X_cat), index= X_cat.index, columns=ohe.get_feature_names(X_cat.columns))\n",
    "#     X_cat_oh.head()\n",
    "\n",
    "#     # sandwich OHE df with numerical dataframes\n",
    "#     X_ohe = X_num.join(X_cat_oh)\n",
    "#     return X_ohe\n",
    "\n",
    "# ohe_column_list = ['state', 'area code']\n",
    "# X_train_ohe = ohe2021(X_train, ohe_column_list)\n",
    "# X_train_ohe.head()"
   ]
  },
  {
   "cell_type": "code",
   "execution_count": null,
   "metadata": {},
   "outputs": [],
   "source": []
  }
 ],
 "metadata": {
  "kernelspec": {
   "display_name": "Python 3",
   "language": "python",
   "name": "python3"
  },
  "language_info": {
   "codemirror_mode": {
    "name": "ipython",
    "version": 3
   },
   "file_extension": ".py",
   "mimetype": "text/x-python",
   "name": "python",
   "nbconvert_exporter": "python",
   "pygments_lexer": "ipython3",
   "version": "3.8.2"
  }
 },
 "nbformat": 4,
 "nbformat_minor": 4
}
